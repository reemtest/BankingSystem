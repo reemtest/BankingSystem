{
  "nbformat": 4,
  "nbformat_minor": 0,
  "metadata": {
    "colab": {
      "provenance": []
    },
    "kernelspec": {
      "name": "python3",
      "display_name": "Python 3"
    },
    "language_info": {
      "name": "python"
    }
  },
  "cells": [
    {
      "cell_type": "code",
      "execution_count": 21,
      "metadata": {
        "id": "ztPIl01B09Ul"
      },
      "outputs": [],
      "source": [
        "class Bank:\n",
        "  def __init__(self,name,balance):\n",
        "    self.name=name\n",
        "    self.balance=balance\n",
        "\n",
        "  def Check_Balance(self):\n",
        "    return self.balance\n",
        "  def Deposit(self):\n",
        "    value=float(input(\"Please enter the value\\n\"))\n",
        "    self.balance=self.balance+value\n",
        "    return self.balance\n",
        "\n",
        "  def Withdraw(self):\n",
        "    value=float(input(\"Please enter the value\\n\"))\n",
        "    if value <= self.balance:\n",
        "      self.balance=self.balance-value\n",
        "    else:\n",
        "      print(\"WARNING!cannot withdraw\")\n",
        "    return self.balance\n",
        "\n",
        "  def show(self):\n",
        "    print(f\"---your name is {self.name} and your balance is {self.balance}---\")\n",
        "\n",
        "  def menu(self):\n",
        "   while True:\n",
        "    print(\"----------------------------------------------------\")\n",
        "    print(\"Please choose a number from 1 to 4\")\n",
        "    x = input(\"'1'for checking the balance\\n'2'for depositing money\\n'3'for withdrawing money\\n'4'for exiting\\n\")\n",
        "\n",
        "    if x=='1':\n",
        "      self.Check_Balance()\n",
        "      self.show()\n",
        "    elif x=='2':\n",
        "      self.Deposit()\n",
        "      self.show()\n",
        "    elif x=='3':\n",
        "      self.Withdraw()\n",
        "      self.show()\n",
        "    elif x=='4':\n",
        "      print(\"Thank you!\")\n",
        "      break\n",
        "    else:\n",
        "      print(\"Invalid number\")\n",
        "\n",
        "\n",
        ""
      ]
    },
    {
      "cell_type": "code",
      "source": [
        "import random\n",
        "if __name__ == \"__main__\":\n",
        "  names=[\"HSBC\",\"QNB\",\"CIB\"]\n",
        "  y=random.choice(names)\n",
        "  print(f\"Bank:{y}\")\n",
        "\n",
        "  name=input(\"Enter your name \\n\")\n",
        "  print(f\"Welcome {name}\")\n",
        "\n",
        "  balance=float(input(\"Enter your balance \\n\"))\n",
        "  balance = float(balance)\n",
        "  print(f\"your balance is {balance}\")\n",
        "\n",
        "  dict={name:balance}\n",
        "  print(dict)\n",
        "  account=Bank(name,balance)\n",
        "  account.menu()\n"
      ],
      "metadata": {
        "colab": {
          "base_uri": "https://localhost:8080/"
        },
        "id": "GQnj4TRf1AW2",
        "outputId": "7160a304-dbfe-4614-b49a-b0370c3d9db7"
      },
      "execution_count": 20,
      "outputs": [
        {
          "output_type": "stream",
          "name": "stdout",
          "text": [
            "Bank:CIB\n",
            "Enter your name \n",
            "Reem\n",
            "Welcome Reem\n",
            "Enter your balance \n",
            "10\n",
            "your balance is 10.0\n",
            "{'Reem': 10.0}\n",
            "----------------------------------------------------\n",
            "Please choose a number from 1 to 4\n",
            "'1'for checking the balance\n",
            "'2'for depositing money\n",
            "'3'for withdrawing money\n",
            "'4'for exiting\n",
            "2\n",
            "Please enter the value\n",
            "10\n",
            "---your name is Reem and your balance is 20.0---\n",
            "----------------------------------------------------\n",
            "Please choose a number from 1 to 4\n",
            "'1'for checking the balance\n",
            "'2'for depositing money\n",
            "'3'for withdrawing money\n",
            "'4'for exiting\n",
            "3\n",
            "Please enter the value\n",
            "50\n",
            "WARNING!cannot withdraw\n",
            "---your name is Reem and your balance is 20.0---\n",
            "----------------------------------------------------\n",
            "Please choose a number from 1 to 4\n",
            "'1'for checking the balance\n",
            "'2'for depositing money\n",
            "'3'for withdrawing money\n",
            "'4'for exiting\n",
            "9\n",
            "Invalid number\n",
            "----------------------------------------------------\n",
            "Please choose a number from 1 to 4\n",
            "'1'for checking the balance\n",
            "'2'for depositing money\n",
            "'3'for withdrawing money\n",
            "'4'for exiting\n",
            "4\n",
            "Thank you!\n"
          ]
        }
      ]
    }
  ]
}