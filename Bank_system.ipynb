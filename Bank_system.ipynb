{
  "nbformat": 4,
  "nbformat_minor": 0,
  "metadata": {
    "colab": {
      "provenance": []
    },
    "kernelspec": {
      "name": "python3",
      "display_name": "Python 3"
    },
    "language_info": {
      "name": "python"
    }
  },
  "cells": [
    {
      "cell_type": "markdown",
      "source": [
        "**Bank_System**"
      ],
      "metadata": {
        "id": "MrvyAPNC5YQP"
      }
    },
    {
      "cell_type": "code",
      "source": [
        "def Check_Balance(balance):\n",
        "    return balance\n",
        "\n",
        "def Deposit(balance):\n",
        "    value=float(input(\"Please enter the value\\n\"))\n",
        "    balance=balance+value\n",
        "    return balance\n",
        "\n",
        "def Withdraw(balance):\n",
        "    value=float(input(\"Please enter the value\\n\"))\n",
        "    if value <= balance:\n",
        "      balance=balance-value\n",
        "    else:\n",
        "      print(\"WARNING!cannot withdraw\")\n",
        "    return balance\n",
        "\n",
        "def show(name,balance):\n",
        " print(f\"---your name is {name} and your balance is {balance}---\")"
      ],
      "metadata": {
        "id": "YLE26clM5Y32"
      },
      "execution_count": 20,
      "outputs": []
    },
    {
      "cell_type": "code",
      "source": [
        "def menu(balance):\n",
        "  while True:\n",
        "    print(\"----------------------------------------------------\")\n",
        "    print(\"Please choose a number from 1 to 4\")\n",
        "    x = input(\"'1'for checking the balance\\n'2'for depositing money\\n'3'for withdrawing money\\n'4'for exiting\\n\")\n",
        "\n",
        "    if x=='1':\n",
        "      Check_Balance(balance)\n",
        "      show(name,balance)\n",
        "    elif x=='2':\n",
        "      balance=Deposit(balance)\n",
        "      show(name,balance)\n",
        "    elif x=='3':\n",
        "      balance=Withdraw(balance)\n",
        "      show(name,balance)\n",
        "    elif x=='4':\n",
        "      print(\"Thank you!\")\n",
        "      break\n",
        "    else:\n",
        "      print(\"Invalid number\")"
      ],
      "metadata": {
        "id": "8fwpvCUZgTv5"
      },
      "execution_count": 21,
      "outputs": []
    },
    {
      "cell_type": "code",
      "source": [
        "import random\n",
        "if __name__ == \"__main__\":\n",
        "  names=[\"HSBC\",\"QNB\",\"CIB\"]\n",
        "  y=random.choice(names)\n",
        "  print(f\"Bank:{y}\")\n",
        "\n",
        "  name=input(\"Enter your name \\n\")\n",
        "  print(f\"Welcome {name}\")\n",
        "\n",
        "  balance=float(input(\"Enter your balance \\n\"))\n",
        "  balance = float(balance)\n",
        "  print(f\"your balance is {balance}\")\n",
        "\n",
        "  dict={name:balance}\n",
        "  print(dict)\n",
        "  menu(balance)"
      ],
      "metadata": {
        "colab": {
          "base_uri": "https://localhost:8080/"
        },
        "id": "b2rPBZQNzks4",
        "outputId": "a5481db8-7114-4708-99dd-80b7d9de0e67"
      },
      "execution_count": 22,
      "outputs": [
        {
          "output_type": "stream",
          "name": "stdout",
          "text": [
            "Bank:QNB\n",
            "Enter your name \n",
            "Reem\n",
            "Welcome Reem\n",
            "Enter your balance \n",
            "10\n",
            "your balance is 10.0\n",
            "{'Reem': 10.0}\n",
            "----------------------------------------------------\n",
            "Please choose a number from 1 to 4\n",
            "'1'for checking the balance\n",
            "'2'for depositing money\n",
            "'3'for withdrawing money\n",
            "'4'for exiting\n",
            "1\n",
            "---your name is Reem and your balance is 10.0---\n",
            "----------------------------------------------------\n",
            "Please choose a number from 1 to 4\n",
            "'1'for checking the balance\n",
            "'2'for depositing money\n",
            "'3'for withdrawing money\n",
            "'4'for exiting\n",
            "2\n",
            "Please enter the value\n",
            "10\n",
            "---your name is Reem and your balance is 20.0---\n",
            "----------------------------------------------------\n",
            "Please choose a number from 1 to 4\n",
            "'1'for checking the balance\n",
            "'2'for depositing money\n",
            "'3'for withdrawing money\n",
            "'4'for exiting\n",
            "3\n",
            "Please enter the value\n",
            "10\n",
            "---your name is Reem and your balance is 10.0---\n",
            "----------------------------------------------------\n",
            "Please choose a number from 1 to 4\n",
            "'1'for checking the balance\n",
            "'2'for depositing money\n",
            "'3'for withdrawing money\n",
            "'4'for exiting\n",
            "40\n",
            "Invalid number\n",
            "----------------------------------------------------\n",
            "Please choose a number from 1 to 4\n",
            "'1'for checking the balance\n",
            "'2'for depositing money\n",
            "'3'for withdrawing money\n",
            "'4'for exiting\n",
            "3\n",
            "Please enter the value\n",
            "40\n",
            "WARNING!cannot withdraw\n",
            "---your name is Reem and your balance is 10.0---\n",
            "----------------------------------------------------\n",
            "Please choose a number from 1 to 4\n",
            "'1'for checking the balance\n",
            "'2'for depositing money\n",
            "'3'for withdrawing money\n",
            "'4'for exiting\n",
            "4\n",
            "Thank you!\n"
          ]
        }
      ]
    }
  ]
}